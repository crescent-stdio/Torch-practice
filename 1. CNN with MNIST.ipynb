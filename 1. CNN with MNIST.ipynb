{
 "cells": [
  {
   "cell_type": "markdown",
   "metadata": {},
   "source": [
    "## MNIST(Modified National Institude of Standards and Technology dayabase)\n",
    "- 데이터 이미지는 28*28, 값은 0-1\n",
    "  - 2차원 행렬 데이터로 보이지만 실제로는 3차원 데이터 [Channel, Width, Height]\n",
    "- 레이블은 One-Hot Encoding방식으로 길이가 10인 벡터(e.g) [0, 0, 0, 0, 1, 0, 0, 0, 0, 0])\n",
    "- CNN(Convolutional Neural Network)사용 예정"
   ]
  },
  {
   "cell_type": "code",
   "execution_count": 2,
   "metadata": {},
   "outputs": [],
   "source": [
    "import torch\n",
    "import torch.nn as nn\n",
    "import torchvision\n",
    "from tqdm import tqdm\n",
    "import pandas as pd\n",
    "from pathlib import Path\n",
    "from torch.utils.data import DataLoader\n",
    "import matplotlib.pyplot as plt\n",
    "import IPython.display as ipd\n",
    "from datetime import datetime\n",
    "\n",
    "def save_fig_with_date(figname):\n",
    "  plt.savefig(f\"{figname}_{datetime.now().strftime('%m_%d_%H_%M_%S')}.png\")"
   ]
  },
  {
   "cell_type": "code",
   "execution_count": 3,
   "metadata": {},
   "outputs": [],
   "source": [
    "# 환경 설정\n",
    "is_cuda = torch.cuda.is_available()\n",
    "DEV = torch.device('cuda' if is_cuda else 'cpu')"
   ]
  },
  {
   "cell_type": "markdown",
   "metadata": {},
   "source": [
    "### MNIST 데이터 불러오기"
   ]
  },
  {
   "cell_type": "code",
   "execution_count": 4,
   "metadata": {},
   "outputs": [],
   "source": [
    "import torchvision.transforms as transforms\n",
    "# 평균: 0.5, 표준편차 1.0이 되도록 데이터의 분포(normalize)를 조정\n",
    "mnist_transform = transforms.Compose([\n",
    "    transforms.ToTensor(),\n",
    "    transforms.Normalize((0.5,), (1.0,))\n",
    "])"
   ]
  },
  {
   "cell_type": "code",
   "execution_count": 5,
   "metadata": {},
   "outputs": [],
   "source": [
    "from torchvision.datasets import MNIST\n",
    "dir_paths = './data/MNIST_DATASET'\n",
    "trainset = MNIST(dir_paths, transform=mnist_transform, train=True, download=True)\n",
    "validset = MNIST(dir_paths, transform=mnist_transform, train=False, download=True)\n",
    "testset = MNIST(dir_paths, transform=mnist_transform, train=False, download=True)"
   ]
  },
  {
   "cell_type": "code",
   "execution_count": 6,
   "metadata": {},
   "outputs": [
    {
     "data": {
      "text/plain": [
       "(60000, 10000, 10000)"
      ]
     },
     "execution_count": 6,
     "metadata": {},
     "output_type": "execute_result"
    }
   ],
   "source": [
    "len(trainset), len(validset), len(testset)"
   ]
  },
  {
   "cell_type": "markdown",
   "metadata": {},
   "source": [
    "### MNIST 데이터 확인"
   ]
  },
  {
   "cell_type": "code",
   "execution_count": 86,
   "metadata": {},
   "outputs": [
    {
     "data": {
      "image/png": "[encoded data removed]",
      "text/plain": [
       "<Figure size 432x288 with 1 Axes>"
      ]
     },
     "metadata": {
      "needs_background": "light"
     },
     "output_type": "display_data"
    }
   ],
   "source": [
    "image, label = trainset[0]\n",
    "plt.imshow(image.squeeze().numpy(), cmap='gray')\n",
    "plt.title('label: %s'%label)\n",
    "plt.show()"
   ]
  },
  {
   "cell_type": "code",
   "execution_count": 103,
   "metadata": {},
   "outputs": [
    {
     "data": {
      "text/plain": [
       "torch.Tensor"
      ]
     },
     "execution_count": 103,
     "metadata": {},
     "output_type": "execute_result"
    }
   ],
   "source": [
    "type(image)"
   ]
  },
  {
   "cell_type": "markdown",
   "metadata": {},
   "source": [
    "### Define DataLoader"
   ]
  },
  {
   "cell_type": "code",
   "execution_count": 142,
   "metadata": {},
   "outputs": [],
   "source": [
    "from torch.utils.data import DataLoader\n",
    "\n",
    "# 데이터셋을 torch.utils.data.DataLoader에 파라미터로 전달\n",
    "train_loader = DataLoader(trainset, batch_size=256, shuffle=True, num_workers=0)\n",
    "valid_loader = DataLoader(validset, batch_size=256, shuffle=False, num_workers=0)\n",
    "test_loader = DataLoader(testset, batch_size=256, shuffle=False, num_workers=0)"
   ]
  },
  {
   "cell_type": "markdown",
   "metadata": {},
   "source": [
    "### Define Model"
   ]
  },
  {
   "cell_type": "code",
   "execution_count": 184,
   "metadata": {},
   "outputs": [],
   "source": [
    "class ClassModel(nn.Module):\n",
    "    def __init__(self, channels, hidden_size, num_output):\n",
    "        super().__init__()\n",
    "        \n",
    "        self.conv_layer = nn.Sequential(\n",
    "            # 1, 16\n",
    "            nn.Conv2d(channels, out_channels=hidden_size, kernel_size=3, stride=1, padding=1),\n",
    "            nn.BatchNorm2d(hidden_size),\n",
    "            nn.MaxPool2d(kernel_size=2, stride=2),\n",
    "            nn.ReLU(),\n",
    "\n",
    "            nn.Conv2d(hidden_size, out_channels=hidden_size*2, kernel_size=3, stride=1, padding=1),\n",
    "            nn.BatchNorm2d(hidden_size*2),\n",
    "            # nn.MaxPool2d(kernel_size=2, stride=2),\n",
    "            nn.ReLU(),     \n",
    "            \n",
    "            nn.Conv2d(hidden_size*2, out_channels=hidden_size*4, kernel_size=3, stride=1, padding=1),\n",
    "            nn.BatchNorm2d(hidden_size*4),\n",
    "            nn.MaxPool2d(kernel_size=2, stride=2),\n",
    "            nn.ReLU(), # 7 7 64\n",
    "        )\n",
    "        self.final_layer = nn.Linear(7*7*hidden_size*4, num_output)\n",
    "    \n",
    "    def forward(self, x):\n",
    "        out = self.conv_layer(x)\n",
    "        out = out.view(out.size(0), -1)\n",
    "        # out = torch.max(out, dim=-1)[0]\n",
    "        out = self.final_layer(out)\n",
    "        out = torch.sigmoid(out)\n",
    "        return out   "
   ]
  },
  {
   "cell_type": "markdown",
   "metadata": {},
   "source": [
    "### Train the Network"
   ]
  },
  {
   "cell_type": "code",
   "execution_count": 193,
   "metadata": {},
   "outputs": [],
   "source": [
    "def train_model(model, train_loader, valid_loader, optimizer, num_epochs, loss_func, device='cuda'):\n",
    "    loss_records =[] \n",
    "    valid_acc_records = []\n",
    "    model.train() # Set model to train mode\n",
    "    for epoch in tqdm(range(num_epochs)):\n",
    "        for batch in train_loader:\n",
    "          optimizer.zero_grad() # Rest gradient of every parameters in optimizer (every parameters in the model)\n",
    "          image, label = batch\n",
    "          image = image.to(device)\n",
    "          label = label.to(device)\n",
    "          pred = model(image)\n",
    "          loss = loss_func(pred, label)\n",
    "\n",
    "          loss.backward() # Run backpropagation\n",
    "          optimizer.step() # Update parameters\n",
    "          loss_records.append(loss.item())\n",
    "        valid_acc = validate_model(model, valid_loader, device)\n",
    "        valid_acc_records.append(valid_acc.item())    \n",
    "    return {\"loss\": loss_records, \"valid_acc\": valid_acc_records}\n",
    "\n",
    "def validate_model(model, test_loader, device='cuda'):\n",
    "    model.eval()\n",
    "    model.to(device)\n",
    "    valid_acc = 0\n",
    "    for batch in test_loader:\n",
    "        data, target = batch\n",
    "        data = data.to(device)\n",
    "        target = target.to(device)\n",
    "        output = model(data)\n",
    "        pred = output.data.max(1)[1]\n",
    "        valid_acc += pred.eq(target.data).sum()\n",
    "    model.train()\n",
    "    return valid_acc/len(test_loader.dataset)"
   ]
  },
  {
   "cell_type": "code",
   "execution_count": 194,
   "metadata": {},
   "outputs": [
    {
     "name": "stderr",
     "output_type": "stream",
     "text": [
      "100%|██████████| 30/30 [08:40<00:00, 17.35s/it]\n"
     ]
    }
   ],
   "source": [
    "model = ClassModel(channels=1, hidden_size=16, num_output=10)\n",
    "optimizer = torch.optim.Adam(model.parameters(), lr=1e-3)\n",
    "model = model.to(DEV)\n",
    "loss_func = torch.nn.CrossEntropyLoss()\n",
    "train_record = train_model(model, train_loader, valid_loader, optimizer, num_epochs=30, loss_func=loss_func, device=DEV)"
   ]
  },
  {
   "cell_type": "code",
   "execution_count": 195,
   "metadata": {},
   "outputs": [
    {
     "data": {
      "image/png": "[encoded data removed]",
      "text/plain": [
       "<Figure size 432x288 with 1 Axes>"
      ]
     },
     "metadata": {
      "needs_background": "light"
     },
     "output_type": "display_data"
    }
   ],
   "source": [
    "plt.plot(train_record['loss'])\n",
    "save_fig_with_date('default_train_loss')"
   ]
  },
  {
   "cell_type": "code",
   "execution_count": 196,
   "metadata": {},
   "outputs": [
    {
     "data": {
      "image/png": "[encoded data removed]",
      "text/plain": [
       "<Figure size 432x288 with 1 Axes>"
      ]
     },
     "metadata": {
      "needs_background": "light"
     },
     "output_type": "display_data"
    }
   ],
   "source": [
    "plt.plot(train_record['valid_acc'])\n",
    "save_fig_with_date('default_train_valid_acc')"
   ]
  },
  {
   "cell_type": "code",
   "execution_count": 197,
   "metadata": {},
   "outputs": [
    {
     "data": {
      "text/plain": [
       "0.9933000206947327"
      ]
     },
     "execution_count": 197,
     "metadata": {},
     "output_type": "execute_result"
    }
   ],
   "source": [
    "max(train_record['valid_acc'])"
   ]
  },
  {
   "cell_type": "markdown",
   "metadata": {},
   "source": [
    "### save models"
   ]
  },
  {
   "cell_type": "code",
   "execution_count": 202,
   "metadata": {},
   "outputs": [],
   "source": [
    "torch.save(model.state_dict(), 'mnist.pt')"
   ]
  },
  {
   "cell_type": "code",
   "execution_count": null,
   "metadata": {},
   "outputs": [],
   "source": []
  }
 ],
 "metadata": {
  "interpreter": {
   "hash": "a583c87a5410bb8e1daaaed976a92b8506fdfbdcf8c1b5d26e42065bb0f510e5"
  },
  "kernelspec": {
   "display_name": "Python 3.9.10 ('torch39')",
   "language": "python",
   "name": "python3"
  },
  "language_info": {
   "codemirror_mode": {
    "name": "ipython",
    "version": 3
   },
   "file_extension": ".py",
   "mimetype": "text/x-python",
   "name": "python",
   "nbconvert_exporter": "python",
   "pygments_lexer": "ipython3",
   "version": "3.9.10"
  },
  "orig_nbformat": 4
 },
 "nbformat": 4,
 "nbformat_minor": 2
}
